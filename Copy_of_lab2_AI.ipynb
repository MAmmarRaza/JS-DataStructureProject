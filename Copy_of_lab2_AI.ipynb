{
  "nbformat": 4,
  "nbformat_minor": 0,
  "metadata": {
    "colab": {
      "provenance": [],
      "authorship_tag": "ABX9TyNMnnKcMCm2vHiehRd6cpqq",
      "include_colab_link": true
    },
    "kernelspec": {
      "name": "python3",
      "display_name": "Python 3"
    },
    "language_info": {
      "name": "python"
    }
  },
  "cells": [
    {
      "cell_type": "markdown",
      "metadata": {
        "id": "view-in-github",
        "colab_type": "text"
      },
      "source": [
        "<a href=\"https://colab.research.google.com/github/RazaQadri/Application-of-DSA/blob/main/Copy_of_lab2_AI.ipynb\" target=\"_parent\"><img src=\"https://colab.research.google.com/assets/colab-badge.svg\" alt=\"Open In Colab\"/></a>"
      ]
    },
    {
      "cell_type": "markdown",
      "source": [
        "# Task 1"
      ],
      "metadata": {
        "id": "J3RP2XfVGLlS"
      }
    },
    {
      "cell_type": "markdown",
      "source": [
        "# Task 2"
      ],
      "metadata": {
        "id": "g4FXgo1FHiW-"
      }
    },
    {
      "cell_type": "markdown",
      "source": [
        "# Task 3"
      ],
      "metadata": {
        "id": "ojTj-pCod25l"
      }
    },
    {
      "cell_type": "code",
      "execution_count": null,
      "metadata": {
        "colab": {
          "base_uri": "https://localhost:8080/"
        },
        "id": "xXi3-9psUAOj",
        "outputId": "35b88d08-e290-4f0c-e60f-d9bdc8da37c2"
      },
      "outputs": [
        {
          "output_type": "stream",
          "name": "stdout",
          "text": [
            " *\n",
            " **\n",
            " ***\n",
            " ****\n",
            " *****\n",
            " *****\n",
            " ****\n",
            " ***\n",
            " **\n",
            " *\n",
            " \n"
          ]
        }
      ],
      "source": [
        "a=\" \"\n",
        "for i in range(0,5):\n",
        "  a +=\"*\"\n",
        "  print(a)\n",
        "\n",
        "while(a!=\"\"):\n",
        "  print(a)\n",
        "  a=a[:len(a)-1]\n"
      ]
    },
    {
      "cell_type": "code",
      "source": [
        "for i in range(5,0,-1):\n",
        "  for j in range(i,0,-1):\n",
        "    print(j,end=\" \")\n",
        "  print()"
      ],
      "metadata": {
        "colab": {
          "base_uri": "https://localhost:8080/"
        },
        "id": "HaVI4lN8Xhwi",
        "outputId": "7b563015-ff4b-4c54-96ba-9e3fa89c2d6f"
      },
      "execution_count": null,
      "outputs": [
        {
          "output_type": "stream",
          "name": "stdout",
          "text": [
            "5 4 3 2 1 \n",
            "4 3 2 1 \n",
            "3 2 1 \n",
            "2 1 \n",
            "1 \n"
          ]
        }
      ]
    },
    {
      "cell_type": "code",
      "source": [
        "for i in range(1,7):\n",
        "  for j in range(1,i):\n",
        "    print(j,end=\" \")\n",
        "  print()"
      ],
      "metadata": {
        "colab": {
          "base_uri": "https://localhost:8080/"
        },
        "id": "Rniz9u_kbhYg",
        "outputId": "6899a78c-8fde-48f0-df63-601deecfc186"
      },
      "execution_count": null,
      "outputs": [
        {
          "output_type": "stream",
          "name": "stdout",
          "text": [
            "\n",
            "1 \n",
            "1 2 \n",
            "1 2 3 \n",
            "1 2 3 4 \n",
            "1 2 3 4 5 \n"
          ]
        }
      ]
    },
    {
      "cell_type": "markdown",
      "source": [
        "# Task 4"
      ],
      "metadata": {
        "id": "7HksvsqLd5jv"
      }
    },
    {
      "cell_type": "code",
      "source": [
        "i=1\n",
        "while(i<=10):\n",
        "  print(i)\n",
        "  i=i+1"
      ],
      "metadata": {
        "colab": {
          "base_uri": "https://localhost:8080/"
        },
        "id": "ipA8-UYVbvEA",
        "outputId": "728388e1-703c-487f-80c4-5ccb7250fba9"
      },
      "execution_count": null,
      "outputs": [
        {
          "output_type": "stream",
          "name": "stdout",
          "text": [
            "1\n",
            "2\n",
            "3\n",
            "4\n",
            "5\n",
            "6\n",
            "7\n",
            "8\n",
            "9\n",
            "10\n"
          ]
        }
      ]
    },
    {
      "cell_type": "markdown",
      "source": [
        "# Task 5"
      ],
      "metadata": {
        "id": "EQgQQ3ARd9fR"
      }
    },
    {
      "cell_type": "code",
      "source": [
        "# Fabionaci\n",
        "a=0\n",
        "b=1\n",
        "\n",
        "for i in range(10):\n",
        "  print(a, end=' ')\n",
        "  a=b\n",
        "  b=a+b"
      ],
      "metadata": {
        "colab": {
          "base_uri": "https://localhost:8080/"
        },
        "id": "mRMuPidYdVVr",
        "outputId": "c7a6d913-eee3-40ed-fdd1-421a40682301"
      },
      "execution_count": null,
      "outputs": [
        {
          "output_type": "stream",
          "name": "stdout",
          "text": [
            "0 1 2 4 8 16 32 64 128 256 "
          ]
        }
      ]
    },
    {
      "cell_type": "markdown",
      "source": [
        "# Task 6"
      ],
      "metadata": {
        "id": "VX8ix48yd_7u"
      }
    },
    {
      "cell_type": "code",
      "source": [
        "num=int(input(\"Enter number: \"))\n",
        "result=1;\n",
        "for i in range(1,num+1):\n",
        "  result= result*i\n",
        "print(result)"
      ],
      "metadata": {
        "colab": {
          "base_uri": "https://localhost:8080/"
        },
        "id": "DeZ6PnlIcAc5",
        "outputId": "35c92edd-e71e-40e8-b7d4-b0222386a5ca"
      },
      "execution_count": null,
      "outputs": [
        {
          "output_type": "stream",
          "name": "stdout",
          "text": [
            "Enter number: 4\n",
            "24\n"
          ]
        }
      ]
    },
    {
      "cell_type": "markdown",
      "source": [
        "# Task 7"
      ],
      "metadata": {
        "id": "sjH6hWRofXzx"
      }
    },
    {
      "cell_type": "code",
      "source": [
        "n = int(input(\"Enter the number of terms: \"))\n",
        "sum = 0\n",
        "for i in range(1, n+1):\n",
        "    sum += i\n",
        "print(\"The sum of the series is:\", sum)\n"
      ],
      "metadata": {
        "colab": {
          "base_uri": "https://localhost:8080/"
        },
        "id": "TmX5x53reIga",
        "outputId": "99aec0c6-6612-440c-ffae-148d8906a4a7"
      },
      "execution_count": null,
      "outputs": [
        {
          "output_type": "stream",
          "name": "stdout",
          "text": [
            "Enter the number of terms: 5\n",
            "The sum of the series is: 15\n"
          ]
        }
      ]
    },
    {
      "cell_type": "markdown",
      "source": [
        "# Task 8"
      ],
      "metadata": {
        "id": "uFQWVG6_fbVd"
      }
    },
    {
      "cell_type": "code",
      "source": [
        "num = int(input(\"Enter a number: \"))\n",
        "factors = 0\n",
        "\n",
        "for i in range(1, num+1):\n",
        "    if num % i == 0:\n",
        "        factors += 1\n",
        "\n",
        "if factors == 2:\n",
        "    print(num, \"is a prime number\")\n",
        "else:\n",
        "    print(num, \"is not a prime number\")\n"
      ],
      "metadata": {
        "id": "c4FV2DSvfc_z"
      },
      "execution_count": null,
      "outputs": []
    },
    {
      "cell_type": "markdown",
      "source": [
        "# Task 9"
      ],
      "metadata": {
        "id": "OUpiTDXLgZXS"
      }
    },
    {
      "cell_type": "code",
      "source": [
        "num=int(input(\"Enter number: \"))\n",
        "for i in range(num,0,-1):\n",
        "  print(i)"
      ],
      "metadata": {
        "id": "dI3hWja_ga_K",
        "colab": {
          "base_uri": "https://localhost:8080/"
        },
        "outputId": "d880e363-4708-477f-8cc3-cb28ebb9ef44"
      },
      "execution_count": null,
      "outputs": [
        {
          "output_type": "stream",
          "name": "stdout",
          "text": [
            "Enter number: 5\n",
            "5\n",
            "4\n",
            "3\n",
            "2\n",
            "1\n"
          ]
        }
      ]
    },
    {
      "cell_type": "markdown",
      "source": [
        "# Task 10"
      ],
      "metadata": {
        "id": "W2HdN_mrDnTT"
      }
    },
    {
      "cell_type": "code",
      "source": [
        "#pattern A\n",
        "for i in range(1,8):\n",
        "  for j in range(1,i):\n",
        "    print(j,end=\" \")\n",
        "  print()\n",
        "#pattern B\n",
        "print()\n",
        "num=7\n",
        "for i in range(1,7):\n",
        "  for j in range(1,num):\n",
        "    print(j,end=\" \")\n",
        "  print()\n",
        "  num=num-1\n",
        "#Pattern C\n",
        "print()\n",
        "for i in range(1,7):\n",
        "  for e in range(7-i):\n",
        "    print(\" \", end=\" \")\n",
        "  for j in range(i,0,-1):\n",
        "    print(j,end=\" \")\n",
        "  print()\n",
        "#pattern D\n",
        "print()\n",
        "num=7\n",
        "for i in range(1,7):\n",
        "  for j in range(1,num):\n",
        "    print(j,end=\" \")\n",
        "  print()\n",
        "  num=num-1\n",
        "\n",
        "\n"
      ],
      "metadata": {
        "colab": {
          "base_uri": "https://localhost:8080/"
        },
        "id": "-5ymBIxyJs6C",
        "outputId": "a391a21a-f967-4627-ee00-098e48e87e61"
      },
      "execution_count": null,
      "outputs": [
        {
          "output_type": "stream",
          "name": "stdout",
          "text": [
            "\n",
            "1 \n",
            "1 2 \n",
            "1 2 3 \n",
            "1 2 3 4 \n",
            "1 2 3 4 5 \n",
            "1 2 3 4 5 6 \n",
            "\n",
            "1 2 3 4 5 6 \n",
            "1 2 3 4 5 \n",
            "1 2 3 4 \n",
            "1 2 3 \n",
            "1 2 \n",
            "1 \n",
            "\n",
            "            1 \n",
            "          2 1 \n",
            "        3 2 1 \n",
            "      4 3 2 1 \n",
            "    5 4 3 2 1 \n",
            "  6 5 4 3 2 1 \n",
            "\n",
            "1 2 3 4 5 6 \n",
            "1 2 3 4 5 \n",
            "1 2 3 4 \n",
            "1 2 3 \n",
            "1 2 \n",
            "1 \n"
          ]
        }
      ]
    },
    {
      "cell_type": "markdown",
      "source": [
        "# Task 11"
      ],
      "metadata": {
        "id": "yAliPWwvDqH5"
      }
    },
    {
      "cell_type": "code",
      "source": [
        "#pattern pyramid\n",
        "num=int(input(\"Enter the number of lines: \"))\n",
        "for i in range(1,num+1):\n",
        "  for e in range((num+1)-i):\n",
        "    print(\" \", end=\" \")\n",
        "  for j in range(i,0,-1):\n",
        "    print(j,end=\" \")\n",
        "  for l in range(2, i+1):\n",
        "      print(l, end=\" \")\n",
        "  print()"
      ],
      "metadata": {
        "colab": {
          "base_uri": "https://localhost:8080/"
        },
        "id": "7lYnufmCO7vA",
        "outputId": "7626e4bd-ec99-48ec-9c2f-f9ea29749193"
      },
      "execution_count": null,
      "outputs": [
        {
          "output_type": "stream",
          "name": "stdout",
          "text": [
            "Enter the number of lines: 9\n",
            "                  1 \n",
            "                2 1 2 \n",
            "              3 2 1 2 3 \n",
            "            4 3 2 1 2 3 4 \n",
            "          5 4 3 2 1 2 3 4 5 \n",
            "        6 5 4 3 2 1 2 3 4 5 6 \n",
            "      7 6 5 4 3 2 1 2 3 4 5 6 7 \n",
            "    8 7 6 5 4 3 2 1 2 3 4 5 6 7 8 \n",
            "  9 8 7 6 5 4 3 2 1 2 3 4 5 6 7 8 9 \n"
          ]
        }
      ]
    },
    {
      "cell_type": "markdown",
      "source": [
        "# Task 12"
      ],
      "metadata": {
        "id": "jvJxCZsegf2s"
      }
    },
    {
      "cell_type": "code",
      "source": [
        "num=int(input(\"Enter a number: \"))\n",
        "for i in range(1,11):\n",
        "  print(num, \" x \",i,\" = \",num*i)"
      ],
      "metadata": {
        "colab": {
          "base_uri": "https://localhost:8080/"
        },
        "id": "ecD4kl7lghQH",
        "outputId": "948cf9fa-7378-400a-c22c-3b39995fb2d8"
      },
      "execution_count": null,
      "outputs": [
        {
          "output_type": "stream",
          "name": "stdout",
          "text": [
            "Enter a number: 3\n",
            "3  x  1  =  3\n",
            "3  x  2  =  6\n",
            "3  x  3  =  9\n",
            "3  x  4  =  12\n",
            "3  x  5  =  15\n",
            "3  x  6  =  18\n",
            "3  x  7  =  21\n",
            "3  x  8  =  24\n",
            "3  x  9  =  27\n",
            "3  x  10  =  30\n"
          ]
        }
      ]
    },
    {
      "cell_type": "markdown",
      "source": [
        "# Arrays: Task 13"
      ],
      "metadata": {
        "id": "fP8blzkZ72Fo"
      }
    },
    {
      "cell_type": "code",
      "source": [
        "import numpy as np\n",
        "\n",
        "arr0 = np.array(42)\n",
        "print(\"0-D array:\\n\", arr0)\n",
        "\n",
        "arr1 = np.array([1, 2, 3, 4, 5])\n",
        "print(\"\\n1-D array:\\n\", arr1)\n",
        "\n",
        "arr2 = np.array([ \n",
        "    [1, 2, 3], \n",
        "    [4, 5, 6] \n",
        "    ])\n",
        "print(\"\\n2-D array:\\n\", arr2)\n",
        "\n",
        "\n",
        "arr3 = np.array([[[1, 2, 3], [4, 5, 6]], [[7, 8, 9], [10, 11, 12]]])\n",
        "print(\"\\n3-D array:\\n\", arr3)\n",
        "\n",
        "arr5 = np.zeros((2, 3, 4, 5, 6))\n",
        "print(\"\\n5-D array:\\n\", arr5)\n"
      ],
      "metadata": {
        "id": "B2hIVVn3-OAc"
      },
      "execution_count": null,
      "outputs": []
    },
    {
      "cell_type": "markdown",
      "source": [
        "# Task 14\n"
      ],
      "metadata": {
        "id": "SZDYkXczBiSz"
      }
    },
    {
      "cell_type": "code",
      "source": [
        "import numpy as np\n",
        "arr= np.array([\"apple\",\"Bnana\",\"Cherry\"])\n",
        "for i in range(0,len(arr)):\n",
        "  print(arr[i])\n"
      ],
      "metadata": {
        "colab": {
          "base_uri": "https://localhost:8080/"
        },
        "id": "_YshcWOg76HC",
        "outputId": "8f7fce65-abea-4d98-84d6-9695515080f8"
      },
      "execution_count": null,
      "outputs": [
        {
          "output_type": "stream",
          "name": "stdout",
          "text": [
            "Bnana\n",
            "apple\n",
            "Bnana\n",
            "Cherry\n"
          ]
        }
      ]
    },
    {
      "cell_type": "markdown",
      "source": [
        "# Task 15"
      ],
      "metadata": {
        "id": "mC_MIiRIBl3m"
      }
    },
    {
      "cell_type": "code",
      "source": [
        "import numpy as np\n",
        "\n",
        "arr = np.array([1, 2, 3, 4, 5])\n",
        "largest = arr[0]\n",
        "\n",
        "for i in range(1, len(arr)):\n",
        "    if arr[i] > largest:\n",
        "        largest = arr[i]\n",
        "\n",
        "print(\"The largest element in the array is:\", largest)\n"
      ],
      "metadata": {
        "colab": {
          "base_uri": "https://localhost:8080/"
        },
        "id": "a_QOFRk8Hp83",
        "outputId": "3a160d31-ca66-4821-8577-8cb7486a5202"
      },
      "execution_count": null,
      "outputs": [
        {
          "output_type": "stream",
          "name": "stdout",
          "text": [
            "The largest element in the array is: 5\n"
          ]
        }
      ]
    },
    {
      "cell_type": "markdown",
      "source": [
        "# Task 16"
      ],
      "metadata": {
        "id": "TdCnQoBeD8TK"
      }
    },
    {
      "cell_type": "code",
      "source": [
        "import numpy as np\n",
        "\n",
        "arr = np.array([1, 2, 3, 4, 5])\n",
        "sum=0\n",
        "\n",
        "for i in range(0, len(arr)):\n",
        "  sum=sum+arr[i]\n",
        "\n",
        "print(\"The Sum of each element  of array is:\", sum)\n"
      ],
      "metadata": {
        "colab": {
          "base_uri": "https://localhost:8080/"
        },
        "id": "Ub67Vv8_RcTu",
        "outputId": "d3835b32-a159-427f-820e-0a9982d2cce1"
      },
      "execution_count": null,
      "outputs": [
        {
          "output_type": "stream",
          "name": "stdout",
          "text": [
            "The Sum of each element  of array is: 15\n"
          ]
        }
      ]
    },
    {
      "cell_type": "markdown",
      "source": [
        "# Task 17"
      ],
      "metadata": {
        "id": "B0Oj4JewD-BY"
      }
    },
    {
      "cell_type": "code",
      "source": [
        "import numpy as np\n",
        "\n",
        "arr = np.array([0, 1, 2, 3, 4, 5, 6, 7, 8, 9])\n",
        "arr[arr%2==1]=-1\n",
        "print(arr)"
      ],
      "metadata": {
        "colab": {
          "base_uri": "https://localhost:8080/"
        },
        "id": "DPtfTjwkSCEB",
        "outputId": "b7fdf7d4-5882-448b-b7e8-a1f2785d0a31"
      },
      "execution_count": null,
      "outputs": [
        {
          "output_type": "stream",
          "name": "stdout",
          "text": [
            "[ 0 -1  2 -1  4 -1  6 -1  8 -1]\n"
          ]
        }
      ]
    },
    {
      "cell_type": "markdown",
      "source": [
        "# Classes: Task 18"
      ],
      "metadata": {
        "id": "O9WMGtNXgzyz"
      }
    },
    {
      "cell_type": "code",
      "source": [
        "class Book:\n",
        "  def __init__(self, ISBN, Title, Price, MainArea, SubArea, NoOfPages):\n",
        "    self.ISBN=ISBN\n",
        "    self.Title=Title\n",
        "    self.Price=Price\n",
        "    self.MainArea=MainArea\n",
        "    self.SubArea=SubArea\n",
        "    self.NoOfPages=NoOfPages\n",
        "  \n",
        "  def __str__(self):\n",
        "    return f\"ISBN= {self.ISBN} \\nTitle={self.Title}\\nPrice= {self.Price}\\nMain Area= {self.MainArea}\\nSub Area {self.SubArea}\\nNo of Pages= {self.NoOfPages}\" \n",
        "\n",
        "obj=Book(\"1234\",\"English\",\"230Rs.\",\"123m\",\"3423\",\"100\")\n",
        "print(obj)"
      ],
      "metadata": {
        "colab": {
          "base_uri": "https://localhost:8080/"
        },
        "id": "w9mQTxxFg1gR",
        "outputId": "a2adee55-2d19-406a-8210-cfc0c7a948a9"
      },
      "execution_count": null,
      "outputs": [
        {
          "output_type": "stream",
          "name": "stdout",
          "text": [
            "ISBN= 1234 \n",
            "Title=English\n",
            "Price= 230Rs.\n",
            "Main Area= 123m\n",
            "Sub Area 3423\n",
            "No of Pages= 100\n"
          ]
        }
      ]
    },
    {
      "cell_type": "markdown",
      "source": [
        "# Task 19"
      ],
      "metadata": {
        "id": "w9K0qAzA7pFZ"
      }
    },
    {
      "cell_type": "code",
      "source": [
        "class Computer:\n",
        "  def __init__(self, BrandName, Speed, MemorySize):\n",
        "    self.BrandName=BrandName\n",
        "    self.MemorySize=MemorySize\n",
        "    self.Speed=Speed\n",
        "\n",
        "  \n",
        "  def __str__(self):\n",
        "    return f\"MemorySize={self.MemorySize}\\nSpeed= {self.Speed}\\nBrand Name= {self.BrandName}\" \n",
        "\n",
        "obj=Computer(\"Dell\",\"1km\",\"50GB\")\n",
        "print(obj)"
      ],
      "metadata": {
        "colab": {
          "base_uri": "https://localhost:8080/"
        },
        "id": "dne3DPGdlUOb",
        "outputId": "1e250d25-9a22-44a7-9f01-3d4cebb6570d"
      },
      "execution_count": null,
      "outputs": [
        {
          "output_type": "stream",
          "name": "stdout",
          "text": [
            "MemorySize=50GB\n",
            "Speed= 1km\n",
            "Brand Name= Dell\n"
          ]
        }
      ]
    },
    {
      "cell_type": "markdown",
      "source": [
        "# Task 20"
      ],
      "metadata": {
        "id": "SJkhle2YEG6Q"
      }
    },
    {
      "cell_type": "code",
      "source": [
        "class Student:\n",
        "  def __init__(self, student_id, student_name,student_class=None):\n",
        "    self.student_id = student_id\n",
        "    self.student_name = student_name\n",
        "    self.student_class = student_class\n",
        "\n",
        "  def display(self):\n",
        "    print(\"Student ID:\", self.student_id)\n",
        "    print(\"Student Name:\", self.student_name)\n",
        "    print(\"Student Class:\", self.student_class)\n",
        "\n",
        "obj=Student(1,\"Ammar\")\n",
        "obj.display()\n",
        "print(\"\\n\\n\")\n",
        "obj=Student(1,\"Ammar\",\"BSSE\")\n",
        "obj.display()\n",
        "\n"
      ],
      "metadata": {
        "colab": {
          "base_uri": "https://localhost:8080/"
        },
        "id": "0VcYxmSyEJAk",
        "outputId": "b548e19c-d501-4afd-f09a-cb2a1b706f63"
      },
      "execution_count": null,
      "outputs": [
        {
          "output_type": "stream",
          "name": "stdout",
          "text": [
            "Student ID: 1\n",
            "Student Name: Ammar\n",
            "Student Class: None\n",
            "\n",
            "\n",
            "\n",
            "Student ID: 1\n",
            "Student Name: Ammar\n",
            "Student Class: BSSE\n"
          ]
        }
      ]
    }
  ]
}